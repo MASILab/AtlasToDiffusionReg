{
 "cells": [
  {
   "cell_type": "code",
   "execution_count": 16,
   "metadata": {},
   "outputs": [],
   "source": [
    "import nibabel as nib\n",
    "from pathlib import Path\n",
    "import numpy as np\n",
    "import pandas as pd\n",
    "import re"
   ]
  },
  {
   "cell_type": "code",
   "execution_count": 22,
   "metadata": {},
   "outputs": [],
   "source": [
    "def create_atlas_dicitonary(path_to_atlas_desc_file):\n",
    "\n",
    "    #atlas_file = Path(\"/home-local/kimm58/AtlasToDiffusionReg/data/JHU_MNI_SS_WMPM_Type-III_SlicerLUT.txt\")\n",
    "    atlas_doc = np.loadtxt(path_to_atlas_desc_file, dtype=str, delimiter='\\n')\n",
    "    atlas_dict = dict()\n",
    "    for label in atlas_doc[1:]:   #assuming that the labelmap desciption must have a header\n",
    "        splits = label.split(\" \")\n",
    "        atlas_dict[int(splits[0])] = splits[1]\n",
    "    return atlas_dict\n",
    "\n",
    "#get list of atlas names from the inputs folder\n",
    "def get_atlas_names(path):\n",
    "    atlases = []\n",
    "    for f in [x.name for x in path.glob('*')]:\n",
    "        name_match = re.search(\"^(Atlas.*).nii.*$\", f, re.IGNORECASE)\n",
    "        if name_match:\n",
    "            atlases.append(name_match.group(1))\n",
    "    return atlases\n",
    "\n",
    "# for x in atlas_dict:\n",
    "#     print(x, atlas_dict[x])"
   ]
  },
  {
   "cell_type": "code",
   "execution_count": 24,
   "metadata": {},
   "outputs": [
    {
     "ename": "AssertionError",
     "evalue": "ERROR: scalar file /OUTPUTS/dwmri%fa.nii.gz does not exist",
     "output_type": "error",
     "traceback": [
      "\u001b[0;31m---------------------------------------------------------------------------\u001b[0m",
      "\u001b[0;31mAssertionError\u001b[0m                            Traceback (most recent call last)",
      "Cell \u001b[0;32mIn [24], line 34\u001b[0m\n\u001b[1;32m     31\u001b[0m \u001b[38;5;28;01mfor\u001b[39;00m scalar_name,scalar_prefix \u001b[38;5;129;01min\u001b[39;00m \u001b[38;5;28mzip\u001b[39m(scalar_files, scalar_prefixes): \u001b[38;5;66;03m#loop through all the scalar niftis (FA, MD, etc.)\u001b[39;00m\n\u001b[1;32m     33\u001b[0m     scalar_file \u001b[38;5;241m=\u001b[39m Path(\u001b[38;5;124m\"\u001b[39m\u001b[38;5;124m/OUTPUTS/\u001b[39m\u001b[38;5;132;01m{}\u001b[39;00m\u001b[38;5;124m%\u001b[39m\u001b[38;5;132;01m{}\u001b[39;00m\u001b[38;5;124m.nii.gz\u001b[39m\u001b[38;5;124m\"\u001b[39m\u001b[38;5;241m.\u001b[39mformat(name,scalar_prefix))  \u001b[38;5;66;03m#the scalar nifti\u001b[39;00m\n\u001b[0;32m---> 34\u001b[0m     \u001b[38;5;28;01massert\u001b[39;00m scalar_file\u001b[38;5;241m.\u001b[39mexists(), \u001b[38;5;124m\"\u001b[39m\u001b[38;5;124mERROR: scalar file \u001b[39m\u001b[38;5;132;01m{}\u001b[39;00m\u001b[38;5;124m does not exist\u001b[39m\u001b[38;5;124m\"\u001b[39m\u001b[38;5;241m.\u001b[39mformat(scalar_file)\n",
      "\u001b[0;31mAssertionError\u001b[0m: ERROR: scalar file /OUTPUTS/dwmri%fa.nii.gz does not exist"
     ]
    }
   ],
   "source": [
    "#file_name = [x for x in Path(\"/INPUTS\").glob('*.bval*')][0].name\n",
    "inp = Path(\"/home-local/kimm58/AtlasToDiffusionReg/data/inputs\")\n",
    "out = Path(\"/home-local/kimm58/AtlasToDiffusionReg/data/outputs\")\n",
    "file_name = [x for x in inp.glob('*.bval*')][0].name\n",
    "name_match = re.search(\"^(.*).bval$\", file_name)\n",
    "name = name_match.group(1)\n",
    "\n",
    "#inputs/intermediates\n",
    "fa = Path(\"/OUTPUTS/{}%fa.nii.gz\".format(name))\n",
    "md = Path(\"/OUTPUTS/{}%md.nii.gz\".format(name))\n",
    "ad = Path(\"/OUTPUTS/{}%ad.nii.gz\".format(name))\n",
    "rd = Path(\"/OUTPUTS/{}%rd.nii.gz\".format(name))\n",
    "\n",
    "\n",
    "#creating the atlas labels dictionary --> will need to change the input names for this, perhaps 'Labels_...' instead of 'Atlas_...' for these .txt files\n",
    "atlas_I_file = Path(\"/home-local/kimm58/AtlasToDiffusionReg/data/JHU_MNI_SS_WMPM_Type-III_SlicerLUT.txt\")\n",
    "atlas_I_dict = create_atlas_dicitonary(atlas_I_file)\n",
    "#atlas_dicts = [atlas_I_dict, ...]\n",
    "\n",
    "# for key,val in atlas_I_dict.items():\n",
    "#     print(key, val)\n",
    "\n",
    "metric_dict = dict()\n",
    "\n",
    "scalar_files = [fa, md, ad, rd]\n",
    "scalar_prefixes = ['fa','md','ad','rd']\n",
    "\n",
    "#get atlas names\n",
    "atlases = get_atlas_names(inp)\n",
    "\n",
    "#calculate the scalars for each ROI\n",
    "for scalar_name,scalar_prefix in zip(scalar_files, scalar_prefixes): #loop through all the scalar niftis (FA, MD, etc.)\n",
    "\n",
    "    #scalar_file = Path(\"/OUTPUTS/{}%{}.nii.gz\".format(name,scalar_prefix))  #the scalar nifti\n",
    "    scalar_file = out/(\"{}%{}.nii.gz\".format(name,scalar_prefix))\n",
    "    assert scalar_file.exists(), \"ERROR: scalar file {} does not exist\".format(scalar_file)\n",
    "    #scalar_nifti = nib.load(scalar_file)\n",
    "    \n",
    "    #will eventually need to loop through the atlases in the input/outputs dir\n",
    "    #for atlas_dict, label_nii\n",
    "\n",
    "\n",
    "\n"
   ]
  },
  {
   "cell_type": "code",
   "execution_count": null,
   "metadata": {},
   "outputs": [],
   "source": []
  }
 ],
 "metadata": {
  "kernelspec": {
   "display_name": "Python 3.8.10 ('utils')",
   "language": "python",
   "name": "python3"
  },
  "language_info": {
   "codemirror_mode": {
    "name": "ipython",
    "version": 3
   },
   "file_extension": ".py",
   "mimetype": "text/x-python",
   "name": "python",
   "nbconvert_exporter": "python",
   "pygments_lexer": "ipython3",
   "version": "3.8.10"
  },
  "orig_nbformat": 4,
  "vscode": {
   "interpreter": {
    "hash": "33340d58b8a6ecff9aae9104c28626da7973b19151067f259e552cc02cd5d28a"
   }
  }
 },
 "nbformat": 4,
 "nbformat_minor": 2
}
