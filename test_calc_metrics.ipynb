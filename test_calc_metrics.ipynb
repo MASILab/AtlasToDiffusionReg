{
 "cells": [
  {
   "cell_type": "code",
   "execution_count": 4,
   "metadata": {},
   "outputs": [],
   "source": [
    "import nibabel as nib\n",
    "from pathlib import Path\n",
    "import numpy as np\n",
    "import pandas as pd"
   ]
  },
  {
   "cell_type": "code",
   "execution_count": null,
   "metadata": {},
   "outputs": [],
   "source": [
    "def create_atlas_dicitonary(path_to_atlas_desc_file):\n",
    "\n",
    "    #atlas_file = Path(\"/home-local/kimm58/AtlasToDiffusionReg/data/JHU_MNI_SS_WMPM_Type-III_SlicerLUT.txt\")\n",
    "    atlas_doc = np.loadtxt(path_to_atlas_desc_file, dtype=str, delimiter='\\n')\n",
    "    atlas_dict = dict()\n",
    "    for label in atlas_doc[1:]:   #assuming that the labelmap desciption must have a header\n",
    "        splits = label.split(\" \")\n",
    "        atlas_dict[int(splits[0])] = splits[1]\n",
    "    return atlas_dict\n",
    "\n",
    "# for x in atlas_dict:\n",
    "#     print(x, atlas_dict[x])"
   ]
  },
  {
   "cell_type": "code",
   "execution_count": null,
   "metadata": {},
   "outputs": [],
   "source": [
    "atlas_I_file = Path(\"/home-local/kimm58/AtlasToDiffusionReg/data/JHU_MNI_SS_WMPM_Type-III_SlicerLUT.txt\")\n",
    "atlas_I_dict = create_atlas_dicitonary(atlas_I_file)"
   ]
  },
  {
   "cell_type": "code",
   "execution_count": null,
   "metadata": {},
   "outputs": [],
   "source": []
  }
 ],
 "metadata": {
  "kernelspec": {
   "display_name": "Python 3.8.10 ('utils')",
   "language": "python",
   "name": "python3"
  },
  "language_info": {
   "codemirror_mode": {
    "name": "ipython",
    "version": 3
   },
   "file_extension": ".py",
   "mimetype": "text/x-python",
   "name": "python",
   "nbconvert_exporter": "python",
   "pygments_lexer": "ipython3",
   "version": "3.8.10"
  },
  "orig_nbformat": 4,
  "vscode": {
   "interpreter": {
    "hash": "33340d58b8a6ecff9aae9104c28626da7973b19151067f259e552cc02cd5d28a"
   }
  }
 },
 "nbformat": 4,
 "nbformat_minor": 2
}
